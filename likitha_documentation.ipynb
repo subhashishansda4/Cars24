{
 "cells": [
  {
   "cell_type": "markdown",
   "metadata": {},
   "source": [
    " # &nbsp; &nbsp; &nbsp; &nbsp; &nbsp; &nbsp; &nbsp; &nbsp; &nbsp; &nbsp; &nbsp; &nbsp;  **Web Scraping Car Details from Cars24.com** \n",
    " ## &nbsp; &nbsp; &nbsp; &nbsp; &nbsp; &nbsp; &nbsp; &nbsp; &nbsp; &nbsp; &nbsp; &nbsp; &nbsp; &nbsp; &nbsp; &nbsp; &nbsp; &nbsp; &nbsp; &nbsp; &nbsp; &nbsp; &nbsp; &nbsp; Project Report(Team-O)\n"
   ]
  },
  {
   "cell_type": "markdown",
   "metadata": {},
   "source": [
    "### **Objective** :  "
   ]
  },
  {
   "cell_type": "markdown",
   "metadata": {},
   "source": [
    "The main objective of this mini-project is to develop skills in web scraping by extracting and analyzing car details of **HONDA** from Cars24.com for different locations. The key details to be gathered include kilometers driven, year of manufacture, fuel type, transmission, and price. This project provides hands-on experience in web scraping, essential for data extraction from online sources. By focusing on different locations, it allows for comparative analysis, revealing regional differences in car attributes and pricing. Ultimately, the project enhances data cleaning and structuring skills, which are crucial for any data analysis task."
   ]
  },
  {
   "cell_type": "markdown",
   "metadata": {},
   "source": [
    "### **Tools and Libraries :**\n",
    "- **Requests**:&nbsp;&nbsp;  For sending HTTP requests to retrieve HTML content from web pages.\n",
    "- **BeautifulSoup**:&nbsp;&nbsp; For parsing HTML content and extracting relevant data elements.\n",
    "- **Selenium**:&nbsp;&nbsp;     For handling dynamic web content loading and scrolling.\n",
    "- **Pandas**:&nbsp;&nbsp;        For structuring, cleaning, and analyzing the extracted data.\n",
    "- **Seaborn**:&nbsp;&nbsp;         For creating visualizations and analyzing the data.\n",
    "- **Matplotlib**:&nbsp;&nbsp;         For plotting graphs and visualizing data.\n",
    "- **webdriver_manager**:&nbsp;&nbsp;  For managing the installation of the Chrome WebDriver."
   ]
  },
  {
   "cell_type": "markdown",
   "metadata": {},
   "source": [
    "### **Methodology** :"
   ]
  },
  {
   "cell_type": "markdown",
   "metadata": {},
   "source": [
    "To achieve the objective of extracting and analyzing car details from Cars24.com, we followed these steps:<br>"
   ]
  },
  {
   "cell_type": "markdown",
   "metadata": {},
   "source": [
    "#### 1. <u> Setup Environment : </u>\n",
    "- Installed necessary Python libraries such as `requests`, `BeautifulSoup`, `pandas`, `seaborn`, and `matplotlib`.   \n",
    "- Configured Selenium WebDriver for dynamic web content extraction.                "
   ]
  },
  {
   "cell_type": "markdown",
   "metadata": {},
   "source": [
    "#### 2. <u>URL Construction :</u>\n",
    "- Developed a function to construct the appropriate URL based on the car brand and location. This included mapping location names to their corresponding location IDs used by Cars24.com."
   ]
  },
  {
   "cell_type": "markdown",
   "metadata": {},
   "source": [
    "#### 3. <u>Data Extraction :</u>\n",
    "- Sent HTTP requests using the `requests` library to retrieve the HTML content of web pages containing car listings.\n",
    "- Utilized Selenium WebDriver to handle dynamic content loading and scrolling for comprehensive data extraction.\n",
    "- Parsed the HTML content using BeautifulSoup to locate and extract relevant car details such as name, kilometers driven, year of manufacture, fuel type, transmission, and price."
   ]
  },
  {
   "cell_type": "markdown",
   "metadata": {},
   "source": [
    "#### 4. <u>Data Cleaning :</u>\n",
    "- Developed a function to clean and format the extracted data to ensure consistency and readability.\n",
    "- Converted relevant fields to appropriate data types (e.g., integers for kilometers driven and year of manufacture, floats for price)."
   ]
  },
  {
   "cell_type": "markdown",
   "metadata": {},
   "source": [
    "#### 5. <u>Data Analysis :</u>\n",
    "- Conducted descriptive analysis to summarize the extracted data.\n",
    "- Visualized key insights using `seaborn` and `matplotlib` to create bar plots, count plots, histograms, and scatter plots. "
   ]
  },
  {
   "cell_type": "markdown",
   "metadata": {},
   "source": [
    "## **Result Analysis:**\n",
    "\n",
    "\n",
    "\n"
   ]
  },
  {
   "cell_type": "markdown",
   "metadata": {},
   "source": [
    "#### 1. <u>Average Price by Fuel Type</u>:"
   ]
  },
  {
   "cell_type": "markdown",
   "metadata": {},
   "source": [
    "- **Petrol Cars:** The average price is around 5.54 lakhs.\n",
    "- **CNG Cars:** The average price is approximately 5.05 lakhs.\n",
    "- **Diesel Cars:** The average price is about 5.86 lakhs. \n"
   ]
  },
  {
   "cell_type": "markdown",
   "metadata": {},
   "source": [
    "**Observation:** &nbsp;\n",
    " Diesel cars have the highest average price, followed by petrol cars. CNG cars are the least expensive on average."
   ]
  },
  {
   "cell_type": "markdown",
   "metadata": {},
   "source": [
    "#### 2. <u>Average Price by Transmission</u>:"
   ]
  },
  {
   "cell_type": "markdown",
   "metadata": {},
   "source": [
    "- **Manual Transmission Cars:** The average price is around 5.28 lakhs.\n",
    "- **Automatic Transmission Cars:** The average price is approximately 6.56 lakhs."
   ]
  },
  {
   "cell_type": "markdown",
   "metadata": {},
   "source": [
    "**Observation:** &nbsp; Automatic transmission cars are significantly more expensive on average compared to manual transmission cars."
   ]
  },
  {
   "cell_type": "markdown",
   "metadata": {},
   "source": [
    "#### 3. <u>Year of Manufacture by Transmission</u>:"
   ]
  },
  {
   "cell_type": "markdown",
   "metadata": {},
   "source": [
    "- **Manual Transmission Cars:** A majority of the cars are from earlier years, with a notable concentration around 2016 and 2018.\n",
    "- **Automatic Transmission Cars:** There is a noticeable number of newer models, especially from 2018 onwards."
   ]
  },
  {
   "cell_type": "markdown",
   "metadata": {},
   "source": [
    "**Observation:** Manual transmission cars tend to be older models, while automatic transmission cars include a larger proportion of newer models."
   ]
  },
  {
   "cell_type": "markdown",
   "metadata": {},
   "source": [
    "#### 4. <u> Year of Manufacture by Fuel Type </u>:"
   ]
  },
  {
   "cell_type": "markdown",
   "metadata": {},
   "source": [
    " **1.Petrol Vehicles:**\n",
    "\n",
    "- The majority of petrol vehicles were manufactured between 2012 and 2022.\n",
    "-The distribution shows a peak in the years 2014, 2016, and 2018.\n",
    "- There is a noticeable decline in the number of petrol vehicles manufactured after 2018.\n",
    "\n",
    "**Observation:** The bulk of petrol vehicles were manufactured in 2014, 2016, and 2018, with these years showing the highest counts. This suggests a higher production or registration of petrol vehicles during these years. The decline after 2018 could indicate a shift in market preference or regulatory changes affecting petrol vehicle sales."
   ]
  },
  {
   "cell_type": "markdown",
   "metadata": {},
   "source": [
    " **2.CNG Vehicles:**\n",
    "\n",
    "- CNG vehicles have fewer entries overall.\n",
    "- The distribution shows a higher concentration of CNG vehicles manufactured around 2018.\n",
    "- There is minimal representation of CNG vehicles from other years.\n",
    "\n",
    "**Observation:** The majority of CNG vehicles are concentrated around the year 2018, indicating a possible rise in popularity or incentives for CNG vehicles during this period. The lower representation in other years suggests limited production or adoption of CNG vehicles overall."
   ]
  },
  {
   "cell_type": "markdown",
   "metadata": {},
   "source": [
    " **3.Diesel Vehicles:**\n",
    "\n",
    "- Similar to CNG, there are fewer diesel vehicles.\n",
    "- The distribution is more evenly spread out between the years 2014 and 2020, with a slight peak around 2020.\n",
    "\n",
    "**Observation:** Diesel vehicles show a relatively even distribution between 2014 and 2020, with a slight increase around 2020. This even spread suggests a steady but limited demand or production for diesel vehicles across these years."
   ]
  },
  {
   "cell_type": "markdown",
   "metadata": {},
   "source": [
    "### 5.<u>Price Distribution:</u>"
   ]
  },
  {
   "cell_type": "markdown",
   "metadata": {},
   "source": [
    "- The distribution of car prices peaks around 6 lakhs, with the majority of cars priced between 4 to 8 lakhs.\n",
    "- There are fewer cars in the lower price range (2-3 lakhs) and the higher price range (above 10 lakhs).\n",
    "- The distribution shows a right skew, indicating that while most cars are moderately priced, there are a few high-priced cars that stretch the tail to the right.\n",
    "\n",
    "**Observation:** The price distribution is right-skewed, with the majority of vehicles priced between 4 to 8 lakhs, peaking at around 6 lakhs. This indicates that most vehicles in the dataset are mid-range in terms of price, with relatively few high-end vehicles above 8 lakhs. The long tail towards higher prices suggests that while expensive vehicles are less common, they are still present in the market.\n"
   ]
  },
  {
   "cell_type": "markdown",
   "metadata": {},
   "source": [
    "#### 6.<u>Kilometers Driven Distribution :</u>\n",
    "- The kilometers driven distribution shows a peak around 40,000 kilometers.\n",
    "- Most vehicles have been driven between 20,000 and 80,000 kilometers.\n",
    "- There is a right skew in the distribution, with some vehicles having been driven up to 120,000 kilometers, but these are less common\n",
    "\n",
    "**Observation:** The distribution of kilometers driven shows a peak around 40,000 kilometers, with most vehicles having been driven between 20,000 and 80,000 kilometers. The right-skewed distribution indicates that while higher mileage vehicles (up to 120,000 kilometers) exist, they are less common. This suggests that the majority of vehicles in the dataset are moderately used, with relatively fewer vehicles having very high mileage."
   ]
  },
  {
   "cell_type": "markdown",
   "metadata": {},
   "source": [
    "#### 7.<u>Year of Manufacture Distribution :</u>"
   ]
  },
  {
   "cell_type": "markdown",
   "metadata": {},
   "source": [
    "- The frequency of cars manufactured peaks around the years 2015, 2017, and 2019.\n",
    "- There is a noticeable decline in the number of cars manufactured in the more recent years (2020-2023).\n",
    "- This could suggest that fewer cars from recent years are available in the dataset, possibly due to factors like lower production numbers, higher retention by original owners, or market dynamics affecting the resale of newer cars."
   ]
  },
  {
   "cell_type": "markdown",
   "metadata": {},
   "source": [
    "**Observation:** The year of manufacture and kilometers driven are significant factors in determining the price of a car, with newer and less-driven cars generally fetching higher prices."
   ]
  },
  {
   "cell_type": "markdown",
   "metadata": {},
   "source": [
    "#### 8.<u>Price vs. Kilometers Driven :</u>"
   ]
  },
  {
   "cell_type": "markdown",
   "metadata": {},
   "source": [
    "- There is a general trend where cars with lower kilometers driven tend to have higher prices, which is expected as lower mileage often indicates better condition.\n",
    "- Despite the general trend, there is significant variability, with some cars having high prices despite high kilometers driven and vice versa. This suggests other factors also play a significant role in determining price, such as brand, model, condition, and year of manufacture."
   ]
  },
  {
   "cell_type": "markdown",
   "metadata": {},
   "source": [
    "**Observation:** There is considerable variability in prices for a given year of manufacture or mileage, indicating that other factors, possibly including brand, model, and condition, also influence car prices."
   ]
  },
  {
   "cell_type": "markdown",
   "metadata": {},
   "source": [
    "#### 9.<u>Price vs. Year of Manufacture :</u>"
   ]
  },
  {
   "cell_type": "markdown",
   "metadata": {},
   "source": [
    "- There is a clear positive correlation between the year of manufacture and the price of the car. Newer cars generally command higher prices.\n",
    "- The prices of cars from the year 2020 onwards show more variability, indicating a broader range of factors affecting the price in recent years.\n",
    "- Older cars (pre-2015) tend to cluster in the lower price range (2-4 lakhs), suggesting depreciation over time."
   ]
  },
  {
   "cell_type": "markdown",
   "metadata": {},
   "source": [
    "**Observation:** The market for cars manufactured in recent years (2020-2023) appears to be more dynamic with greater price variability, which may be due to newer car models having a wider range of features and conditions, or possibly economic factors influencing car values in recent times."
   ]
  },
  {
   "cell_type": "markdown",
   "metadata": {},
   "source": [
    "## **Challenges Faced:**\n",
    "#### <u>Dynamic Content Loading</u>:\n",
    "\n",
    "- Many web pages, including Cars24.com, use JavaScript to load content dynamically as the user scrolls. This required the use of Selenium WebDriver to simulate scrolling and ensure all car listings were loaded before extraction.\n",
    "#### <u>Data Consistency</u>:\n",
    "- The format and presentation of car details varied across different listings. Standardizing the data, such as converting prices and kilometers driven to consistent formats, posed a challenge.\n",
    "#### <u>Error Handling</u>:\n",
    "- Various issues such as missing data, network errors, and unsupported locations needed robust error handling mechanisms to prevent the program from crashing and to ensure meaningful data extraction.\n",
    "#### <u>Performance and Efficiency</u>:\n",
    "- Extracting data from multiple locations involved significant processing time, particularly due to the need for dynamic scrolling and loading. This required optimizing the extraction process for better performance.\n",
    "#### <u>Parsing Variability</u>:\n",
    "- Differences in HTML structure across different car listings required careful parsing logic to correctly identify and extract the necessary details without missing or incorrectly interpreting any data."
   ]
  },
  {
   "cell_type": "markdown",
   "metadata": {},
   "source": [
    "## **Future Directions:**\n",
    "- *Expansion:* &nbsp; &nbsp; Include more car brands and additional locations for a broader analysis.\n",
    "- *Automation:*  &nbsp; &nbsp;Implement scheduled tasks for regular data updates.\n",
    "- *Advanced Analysis:* &nbsp; &nbsp; Incorporate additional attributes and perform deeper statistical analysis.\n",
    "- *User Interface:* &nbsp; &nbsp; Develop an interactive interface for users to query and visualize data."
   ]
  },
  {
   "cell_type": "markdown",
   "metadata": {},
   "source": [
    "## **Conclusion:**"
   ]
  },
  {
   "cell_type": "markdown",
   "metadata": {},
   "source": [
    "This project provided valuable hands-on experience in web scraping, data cleaning, and data analysis. By extracting and analyzing car details from Cars24.com, we gained insights into the used car market across various locations in India. The project highlighted the importance of robust data extraction techniques, efficient data cleaning processes, and insightful data visualization methods.This project has provided valuable insights into the used car market in India through comprehensive web scraping and data analysis techniques. By extracting and analyzing car details from Cars24.com across various cities, we uncovered regional trends in car attributes and pricing. The analysis revealed significant variations in kilometers driven, year of manufacture, fuel type, transmission, and price, reflecting diverse market dynamics. These insights are crucial for potential buyers, sellers, and market analysts seeking to understand regional preferences, market trends, and pricing strategies in the used car industry. Moving forward, further refinement and expansion of this project could deepen its impact, offering more nuanced insights and broader applicability in the automotive market analysis domain."
   ]
  },
  {
   "cell_type": "markdown",
   "metadata": {},
   "source": [
    "## **Key Takeaways :**"
   ]
  },
  {
   "cell_type": "markdown",
   "metadata": {},
   "source": [
    "- *Technical Skills:* &nbsp; &nbsp; Enhanced understanding of web scraping tools (Requests, BeautifulSoup, Selenium) and data analysis libraries (Pandas, Seaborn, Matplotlib).\n",
    "- *Problem-Solving:* &nbsp; &nbsp; Developed problem-solving skills to address challenges related to dynamic content loading, data consistency, and performance optimization.\n",
    "- *Data Insights:* &nbsp; &nbsp; Gained practical experience in extracting, cleaning, and analyzing real-world data, leading to meaningful insights into the used car market.\n",
    "- *Future Directions:* &nbsp; &nbsp; Identified potential areas for expanding the project, such as increasing brand and location coverage, automating data updates, and developing a user-friendly interface for custom data queries."
   ]
  }
 ],
 "metadata": {
  "kernelspec": {
   "display_name": "Python 3",
   "language": "python",
   "name": "python3"
  },
  "language_info": {
   "name": "python",
   "version": "3.12.4"
  }
 },
 "nbformat": 4,
 "nbformat_minor": 2
}
