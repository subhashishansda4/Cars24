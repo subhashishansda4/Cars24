{
  "nbformat": 4,
  "nbformat_minor": 0,
  "metadata": {
    "colab": {
      "provenance": []
    },
    "kernelspec": {
      "name": "python3",
      "display_name": "Python 3"
    },
    "language_info": {
      "name": "python"
    }
  },
  "cells": [
    {
      "cell_type": "code",
      "execution_count": null,
      "metadata": {
        "id": "WW3DCRLWXNTN"
      },
      "outputs": [],
      "source": [
        "import pandas as pd\n",
        "import re\n",
        "def clean_csv(input_csv_path, output_csv_path):\n",
        "\n",
        "\n",
        "    # Load the CSV file\n",
        "    df = pd.read_csv(file_path)\n",
        "\n",
        "\n",
        "    # Remove currency symbols and other characters from 'Total kilometers driven' and 'Price' columns and convert to numeric\n",
        "    df['Total Kilometers Driven'] = df['Total Kilometers Driven'].str.replace(r'|,| km', '', regex=True).astype(float)\n",
        "    df['Price'] = df['Price'].str.replace(r'₹|,| Lakh', '', regex=True).astype('int64') * 1e5  # Convert Lakh to actual number\n",
        "\n",
        "    # Remove specified terms from 'Car Model' column\n",
        "    terms_to_remove = ['PETROL', 'DIESEL', 'AMT', 'MT', '1.5', '1.2']\n",
        "    pattern = '|'.join(terms_to_remove)\n",
        "    df['Car Model'] = df['Car Model'].str.replace(pattern, '', regex=True).str.strip()\n",
        "\n",
        "    # Ensure data types are correct\n",
        "    df['Car Model'] = df['Car_Model'].astype(str)\n",
        "    df['Transmission Type'] = df['Transmission Type'].astype(str)\n",
        "    df['Fuel Type'] = df['Fuel Type'].astype(str)\n",
        "\n",
        "    # Save the cleaned data to a new CSV file\n",
        "    try:\n",
        "        df.to_csv(output_csv_path, index=False) # Dedent this line to align with the try block\n",
        "        print(f\"Cleaned CSV saved to {output_csv_path}\")\n",
        "    except Exception as e:\n",
        "        print(f\"Error: {str(e)}\")\n",
        "\n",
        "# Example usage\n",
        "clean_csv('inputfilename.csv', 'outputfilename.csv')"
      ]
    }
  ]
}