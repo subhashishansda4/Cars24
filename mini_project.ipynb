{
 "cells": [
  {
   "cell_type": "code",
   "execution_count": 1,
   "metadata": {},
   "outputs": [],
   "source": [
    "# project is divided into functions\n",
    "\n",
    "# data extraction\n",
    "# inputs brand name and location\n",
    "# extract given details of cars from website\n",
    "# returns a single dictionary\n",
    "\n",
    "# data transformation\n",
    "# inputs dictionary\n",
    "# converting dictionary to csv\n",
    "# returns csv file or path to csv file\n",
    "\n",
    "# data cleaning\n",
    "# inputs csv file\n",
    "# removing unncessary texts and symbols\n",
    "# checking duplicate values and nan values\n",
    "# returns new csv file [not updating]\n",
    "\n",
    "# data processing\n",
    "# checking data types to be correct\n",
    "# encoding categorical variables [label or one-hot]\n",
    "\n",
    "# main python\n",
    "# uses above functions\n",
    "# creates exception handling function\n",
    "# creates logger function\n"
   ]
  },
  {
   "cell_type": "code",
   "execution_count": 2,
   "metadata": {},
   "outputs": [],
   "source": [
    "# python notebook for submission with documentation of each code"
   ]
  },
  {
   "cell_type": "code",
   "execution_count": 3,
   "metadata": {},
   "outputs": [],
   "source": [
    "# presentation file pdf"
   ]
  },
  {
   "cell_type": "code",
   "execution_count": 4,
   "metadata": {},
   "outputs": [],
   "source": [
    "# report\n",
    "# detailing the process, any challenges faced, solutions implemented, and insights gained from the data"
   ]
  }
 ],
 "metadata": {
  "kernelspec": {
   "display_name": "base",
   "language": "python",
   "name": "python3"
  },
  "language_info": {
   "codemirror_mode": {
    "name": "ipython",
    "version": 3
   },
   "file_extension": ".py",
   "mimetype": "text/x-python",
   "name": "python",
   "nbconvert_exporter": "python",
   "pygments_lexer": "ipython3",
   "version": "3.12.2"
  }
 },
 "nbformat": 4,
 "nbformat_minor": 2
}
